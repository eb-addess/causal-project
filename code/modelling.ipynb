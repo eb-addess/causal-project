{
 "cells": [
  {
   "attachments": {},
   "cell_type": "markdown",
   "metadata": {},
   "source": [
    "# Modelling and Estimation\n",
    "We are proceeding to perform causal inference as if the necessary assumptions are met. Neal explains that we can identify causal effects with the \"adjustment formula\": $$E[Y(1) - Y(0)] = E_X[E[Y|T=1, X] - E[Y|T=0, X]]  $$\n",
    "We can estimate the quantities $E[Y|T=1, X]$ and $E[Y|T=0, X]$ from the data by using a machine learning model. We will first use linear regression and then attempt to use a more advanced model. The general approach for this code is based on Neal(2020) and VanderPlas(2016). For a basis to use linear regression for a binary response see Gomila(2021)."
   ]
  },
  {
   "cell_type": "code",
   "execution_count": 53,
   "metadata": {},
   "outputs": [
    {
     "data": {
      "text/html": [
       "<div>\n",
       "<style scoped>\n",
       "    .dataframe tbody tr th:only-of-type {\n",
       "        vertical-align: middle;\n",
       "    }\n",
       "\n",
       "    .dataframe tbody tr th {\n",
       "        vertical-align: top;\n",
       "    }\n",
       "\n",
       "    .dataframe thead th {\n",
       "        text-align: right;\n",
       "    }\n",
       "</style>\n",
       "<table border=\"1\" class=\"dataframe\">\n",
       "  <thead>\n",
       "    <tr style=\"text-align: right;\">\n",
       "      <th></th>\n",
       "      <th>Diabetes_binary</th>\n",
       "      <th>HighBP</th>\n",
       "      <th>HighChol</th>\n",
       "      <th>CholCheck</th>\n",
       "      <th>BMI</th>\n",
       "      <th>Smoker</th>\n",
       "      <th>Stroke</th>\n",
       "      <th>HeartDiseaseorAttack</th>\n",
       "      <th>PhysActivity</th>\n",
       "      <th>Fruits</th>\n",
       "      <th>...</th>\n",
       "      <th>AnyHealthcare</th>\n",
       "      <th>NoDocbcCost</th>\n",
       "      <th>GenHlth</th>\n",
       "      <th>MentHlth</th>\n",
       "      <th>PhysHlth</th>\n",
       "      <th>DiffWalk</th>\n",
       "      <th>Sex</th>\n",
       "      <th>Age</th>\n",
       "      <th>Education</th>\n",
       "      <th>Income</th>\n",
       "    </tr>\n",
       "  </thead>\n",
       "  <tbody>\n",
       "    <tr>\n",
       "      <th>0</th>\n",
       "      <td>0.0</td>\n",
       "      <td>1.0</td>\n",
       "      <td>1.0</td>\n",
       "      <td>1.0</td>\n",
       "      <td>40.0</td>\n",
       "      <td>1.0</td>\n",
       "      <td>0.0</td>\n",
       "      <td>0.0</td>\n",
       "      <td>0.0</td>\n",
       "      <td>0.0</td>\n",
       "      <td>...</td>\n",
       "      <td>1.0</td>\n",
       "      <td>0.0</td>\n",
       "      <td>5.0</td>\n",
       "      <td>18.0</td>\n",
       "      <td>15.0</td>\n",
       "      <td>1.0</td>\n",
       "      <td>0.0</td>\n",
       "      <td>9.0</td>\n",
       "      <td>4.0</td>\n",
       "      <td>3.0</td>\n",
       "    </tr>\n",
       "    <tr>\n",
       "      <th>1</th>\n",
       "      <td>0.0</td>\n",
       "      <td>0.0</td>\n",
       "      <td>0.0</td>\n",
       "      <td>0.0</td>\n",
       "      <td>25.0</td>\n",
       "      <td>1.0</td>\n",
       "      <td>0.0</td>\n",
       "      <td>0.0</td>\n",
       "      <td>1.0</td>\n",
       "      <td>0.0</td>\n",
       "      <td>...</td>\n",
       "      <td>0.0</td>\n",
       "      <td>1.0</td>\n",
       "      <td>3.0</td>\n",
       "      <td>0.0</td>\n",
       "      <td>0.0</td>\n",
       "      <td>0.0</td>\n",
       "      <td>0.0</td>\n",
       "      <td>7.0</td>\n",
       "      <td>6.0</td>\n",
       "      <td>1.0</td>\n",
       "    </tr>\n",
       "    <tr>\n",
       "      <th>2</th>\n",
       "      <td>0.0</td>\n",
       "      <td>1.0</td>\n",
       "      <td>1.0</td>\n",
       "      <td>1.0</td>\n",
       "      <td>28.0</td>\n",
       "      <td>0.0</td>\n",
       "      <td>0.0</td>\n",
       "      <td>0.0</td>\n",
       "      <td>0.0</td>\n",
       "      <td>1.0</td>\n",
       "      <td>...</td>\n",
       "      <td>1.0</td>\n",
       "      <td>1.0</td>\n",
       "      <td>5.0</td>\n",
       "      <td>30.0</td>\n",
       "      <td>30.0</td>\n",
       "      <td>1.0</td>\n",
       "      <td>0.0</td>\n",
       "      <td>9.0</td>\n",
       "      <td>4.0</td>\n",
       "      <td>8.0</td>\n",
       "    </tr>\n",
       "    <tr>\n",
       "      <th>3</th>\n",
       "      <td>0.0</td>\n",
       "      <td>1.0</td>\n",
       "      <td>0.0</td>\n",
       "      <td>1.0</td>\n",
       "      <td>27.0</td>\n",
       "      <td>0.0</td>\n",
       "      <td>0.0</td>\n",
       "      <td>0.0</td>\n",
       "      <td>1.0</td>\n",
       "      <td>1.0</td>\n",
       "      <td>...</td>\n",
       "      <td>1.0</td>\n",
       "      <td>0.0</td>\n",
       "      <td>2.0</td>\n",
       "      <td>0.0</td>\n",
       "      <td>0.0</td>\n",
       "      <td>0.0</td>\n",
       "      <td>0.0</td>\n",
       "      <td>11.0</td>\n",
       "      <td>3.0</td>\n",
       "      <td>6.0</td>\n",
       "    </tr>\n",
       "    <tr>\n",
       "      <th>4</th>\n",
       "      <td>0.0</td>\n",
       "      <td>1.0</td>\n",
       "      <td>1.0</td>\n",
       "      <td>1.0</td>\n",
       "      <td>24.0</td>\n",
       "      <td>0.0</td>\n",
       "      <td>0.0</td>\n",
       "      <td>0.0</td>\n",
       "      <td>1.0</td>\n",
       "      <td>1.0</td>\n",
       "      <td>...</td>\n",
       "      <td>1.0</td>\n",
       "      <td>0.0</td>\n",
       "      <td>2.0</td>\n",
       "      <td>3.0</td>\n",
       "      <td>0.0</td>\n",
       "      <td>0.0</td>\n",
       "      <td>0.0</td>\n",
       "      <td>11.0</td>\n",
       "      <td>5.0</td>\n",
       "      <td>4.0</td>\n",
       "    </tr>\n",
       "  </tbody>\n",
       "</table>\n",
       "<p>5 rows × 22 columns</p>\n",
       "</div>"
      ],
      "text/plain": [
       "   Diabetes_binary  HighBP  HighChol  CholCheck   BMI  Smoker  Stroke  \\\n",
       "0              0.0     1.0       1.0        1.0  40.0     1.0     0.0   \n",
       "1              0.0     0.0       0.0        0.0  25.0     1.0     0.0   \n",
       "2              0.0     1.0       1.0        1.0  28.0     0.0     0.0   \n",
       "3              0.0     1.0       0.0        1.0  27.0     0.0     0.0   \n",
       "4              0.0     1.0       1.0        1.0  24.0     0.0     0.0   \n",
       "\n",
       "   HeartDiseaseorAttack  PhysActivity  Fruits  ...  AnyHealthcare  \\\n",
       "0                   0.0           0.0     0.0  ...            1.0   \n",
       "1                   0.0           1.0     0.0  ...            0.0   \n",
       "2                   0.0           0.0     1.0  ...            1.0   \n",
       "3                   0.0           1.0     1.0  ...            1.0   \n",
       "4                   0.0           1.0     1.0  ...            1.0   \n",
       "\n",
       "   NoDocbcCost  GenHlth  MentHlth  PhysHlth  DiffWalk  Sex   Age  Education  \\\n",
       "0          0.0      5.0      18.0      15.0       1.0  0.0   9.0        4.0   \n",
       "1          1.0      3.0       0.0       0.0       0.0  0.0   7.0        6.0   \n",
       "2          1.0      5.0      30.0      30.0       1.0  0.0   9.0        4.0   \n",
       "3          0.0      2.0       0.0       0.0       0.0  0.0  11.0        3.0   \n",
       "4          0.0      2.0       3.0       0.0       0.0  0.0  11.0        5.0   \n",
       "\n",
       "   Income  \n",
       "0     3.0  \n",
       "1     1.0  \n",
       "2     8.0  \n",
       "3     6.0  \n",
       "4     4.0  \n",
       "\n",
       "[5 rows x 22 columns]"
      ]
     },
     "execution_count": 53,
     "metadata": {},
     "output_type": "execute_result"
    }
   ],
   "source": [
    "# imports\n",
    "import numpy as np\n",
    "import pandas as pd\n",
    "import matplotlib as mpl\n",
    "import matplotlib.pyplot as plt\n",
    "from sklearn.linear_model import LinearRegression\n",
    "from sklearn.linear_model import LogisticRegression\n",
    "\n",
    "mpl.style.use('ggplot')\n",
    "\n",
    "# load data\n",
    "diabetes = pd.read_csv('../data/diabetes_binary_health_indicators_BRFSS2015.csv')\n",
    "diabetes.head()"
   ]
  },
  {
   "attachments": {},
   "cell_type": "markdown",
   "metadata": {},
   "source": [
    "# Linear Regression Modelling"
   ]
  },
  {
   "cell_type": "code",
   "execution_count": 54,
   "metadata": {},
   "outputs": [],
   "source": [
    "# split up feature matrix and target array\n",
    "# X_treat matrix includes the treatment variable smoker \n",
    "X_treat =  diabetes.drop('Diabetes_binary', axis = 1)\n",
    "y = diabetes['Diabetes_binary']"
   ]
  },
  {
   "cell_type": "code",
   "execution_count": 55,
   "metadata": {},
   "outputs": [
    {
     "name": "stdout",
     "output_type": "stream",
     "text": [
      "-0.2982880332286123\n",
      "[ 7.52952909e-02  5.59937459e-02  4.35893059e-02  6.87790112e-03\n",
      " -5.89882654e-03  3.74018864e-02  6.74262614e-02 -6.84861665e-03\n",
      " -1.68027818e-03 -2.78144759e-03 -5.07535115e-02  1.50586175e-02\n",
      " -7.33412971e-03  4.78636266e-02 -6.04433848e-04  1.08423185e-05\n",
      "  4.43124383e-02  1.67516237e-02  7.31037997e-03 -3.30012545e-03\n",
      " -6.34484438e-03]\n"
     ]
    }
   ],
   "source": [
    "# set up and fit regression model\n",
    "model = LinearRegression(fit_intercept= True)\n",
    "model.fit(X_treat,y)\n",
    "\n",
    "print(model.intercept_)\n",
    "print(model.coef_)"
   ]
  },
  {
   "attachments": {},
   "cell_type": "markdown",
   "metadata": {},
   "source": [
    "In the adjustment formula we take the expected value with respect to $X$ of $[E[Y|T=1, X] - E[Y|T=0, X]]$. In order to estimate this expected value we need to average over the estimates of $[E[Y|T=1, X] - E[Y|T=0, X]]$ for every $X$ value in the data set. Hence we need to first obtain estimates of $E[Y|T=1, X]$ and $E[Y|T=0, X]$ for each $X$ value. For this we use our model predictions."
   ]
  },
  {
   "cell_type": "code",
   "execution_count": 56,
   "metadata": {},
   "outputs": [],
   "source": [
    "# X_treat1 indicates that we are setting the treatment variable to 1\n",
    "X_treat1 = X_treat.copy()\n",
    "X_treat1['Smoker'] = 1\n",
    "\n",
    "# X_treat0 indicates that we are setting the treatment variable to 0\n",
    "X_treat0 = X_treat.copy()\n",
    "X_treat0['Smoker'] = 0\n",
    "\n",
    "# obtain predictions\n",
    "predict1 = model.predict(X_treat1)\n",
    "predict0 = model.predict(X_treat0)"
   ]
  },
  {
   "cell_type": "code",
   "execution_count": 57,
   "metadata": {},
   "outputs": [
    {
     "data": {
      "text/plain": [
       "array([ 0.46455648,  0.02219586,  0.33697391, ..., -0.02819253,\n",
       "        0.17215605,  0.24562523])"
      ]
     },
     "execution_count": 57,
     "metadata": {},
     "output_type": "execute_result"
    }
   ],
   "source": [
    "predict1"
   ]
  },
  {
   "cell_type": "code",
   "execution_count": 58,
   "metadata": {},
   "outputs": [
    {
     "data": {
      "text/plain": [
       "array([ 0.47045531,  0.02809469,  0.34287274, ..., -0.0222937 ,\n",
       "        0.17805487,  0.25152405])"
      ]
     },
     "execution_count": 58,
     "metadata": {},
     "output_type": "execute_result"
    }
   ],
   "source": [
    "predict0"
   ]
  },
  {
   "attachments": {},
   "cell_type": "markdown",
   "metadata": {},
   "source": [
    "Note that these are predictions of the expected value of the Bernoulli diabetes random variable, i.e. the probability of diabetes given the covariates. These are not classifications."
   ]
  },
  {
   "attachments": {},
   "cell_type": "markdown",
   "metadata": {},
   "source": [
    "Now that we have estimates for $E[Y|T=1, X]$ and $E[Y|T=0, X]$ we can take the average of their difference to give an estimate of the ATE."
   ]
  },
  {
   "cell_type": "code",
   "execution_count": 59,
   "metadata": {},
   "outputs": [
    {
     "data": {
      "text/plain": [
       "-0.0059"
      ]
     },
     "execution_count": 59,
     "metadata": {},
     "output_type": "execute_result"
    }
   ],
   "source": [
    "e_ate= np.mean(predict1 - predict0)\n",
    "e_ate.round(4)"
   ]
  },
  {
   "attachments": {},
   "cell_type": "markdown",
   "metadata": {},
   "source": [
    "## Observations\n",
    "So our estimated ATE is very close to zero. It is actually significantly closer to zero than the estimated association, which was 0.04. Under our assumptions, this could be interpreted that even though there is a minor association positive association between smoking and diabetes, this can be attributed to other confounding factors. For example, smokers may also have poor eating habits, a known diabetes risk factor([https://www.cdc.gov/diabetes/basics/risk-factors.html](https://www.cdc.gov/diabetes/basics/risk-factors.html)). However, under said assumptions, our analysis indicates that there is almost no direct causal effect between smoking and diabetes. "
   ]
  },
  {
   "attachments": {},
   "cell_type": "markdown",
   "metadata": {},
   "source": [
    "# BART\n",
    "It seems more practical to implement BART in R."
   ]
  },
  {
   "attachments": {},
   "cell_type": "markdown",
   "metadata": {},
   "source": [
    "# Type 2 Diabetes Analysis"
   ]
  },
  {
   "cell_type": "code",
   "execution_count": 60,
   "metadata": {},
   "outputs": [],
   "source": [
    "# subset data, drop Sex column since no longer variable\n",
    "diabetes2 = diabetes.loc[(diabetes.Age >= 3) & (diabetes.Sex == 1),:].drop('Sex', axis = 1) "
   ]
  },
  {
   "attachments": {},
   "cell_type": "markdown",
   "metadata": {},
   "source": [
    "## Linear Regression Modelling"
   ]
  },
  {
   "cell_type": "code",
   "execution_count": 61,
   "metadata": {},
   "outputs": [
    {
     "name": "stdout",
     "output_type": "stream",
     "text": [
      "-0.39212555241153985\n",
      "[ 0.07174747  0.04986611  0.0484847   0.00813693 -0.00297228  0.03634893\n",
      "  0.05982382 -0.00655108 -0.00872993 -0.00111087 -0.06686805  0.01904676\n",
      " -0.00513399  0.05344925 -0.0005163  -0.00011169  0.0527512   0.01296222\n",
      " -0.00114239 -0.00627626]\n"
     ]
    }
   ],
   "source": [
    "# split up feature matrix and target array\n",
    "# X_treat matrix includes the treatment variable smoker \n",
    "d2_X_treat =  diabetes2.drop('Diabetes_binary', axis = 1)\n",
    "d2_y = diabetes2['Diabetes_binary']\n",
    "\n",
    "# set up and fit regression model\n",
    "model = LinearRegression(fit_intercept= True)\n",
    "model.fit(d2_X_treat,d2_y)\n",
    "\n",
    "print(model.intercept_)\n",
    "print(model.coef_)"
   ]
  },
  {
   "cell_type": "code",
   "execution_count": 62,
   "metadata": {},
   "outputs": [],
   "source": [
    "# X_treat1 indicates that we are setting the treatment variable to 1\n",
    "d2_X_treat1 = d2_X_treat.copy()\n",
    "d2_X_treat1['Smoker'] = 1\n",
    "\n",
    "# X_treat0 indicates that we are setting the treatment variable to 0\n",
    "d2_X_treat0 = d2_X_treat.copy()\n",
    "d2_X_treat0['Smoker'] = 0\n",
    "\n",
    "# obtain predictions\n",
    "predict1 = model.predict(d2_X_treat1)\n",
    "predict0 = model.predict(d2_X_treat0)"
   ]
  },
  {
   "cell_type": "code",
   "execution_count": 63,
   "metadata": {},
   "outputs": [
    {
     "data": {
      "text/plain": [
       "-0.003"
      ]
     },
     "execution_count": 63,
     "metadata": {},
     "output_type": "execute_result"
    }
   ],
   "source": [
    "e_ate= np.mean(predict1 - predict0)\n",
    "e_ate.round(4)"
   ]
  },
  {
   "attachments": {},
   "cell_type": "markdown",
   "metadata": {},
   "source": [
    "**Not much different from our original analysis.**"
   ]
  },
  {
   "attachments": {},
   "cell_type": "markdown",
   "metadata": {},
   "source": [
    "# Logistic Regression Analysis"
   ]
  },
  {
   "attachments": {},
   "cell_type": "markdown",
   "metadata": {},
   "source": [
    "Like before, we first use all the data."
   ]
  },
  {
   "cell_type": "code",
   "execution_count": 64,
   "metadata": {},
   "outputs": [
    {
     "data": {
      "text/plain": [
       "3.501176362740954e-21"
      ]
     },
     "execution_count": 64,
     "metadata": {},
     "output_type": "execute_result"
    }
   ],
   "source": [
    "# split up feature matrix and target array\n",
    "# X_treat matrix includes the treatment variable smoker \n",
    "X_treat =  diabetes.drop('Diabetes_binary', axis = 1)\n",
    "y = diabetes['Diabetes_binary']\n",
    "\n",
    "# fit logistic regression model\n",
    "logistic = LogisticRegression(solver='liblinear')\n",
    "logistic.fit(X_treat, y)\n",
    "\n",
    "# X_treat1 indicates that we are setting the treatment variable to 1\n",
    "X_treat1 = X_treat.copy()\n",
    "X_treat1['Smoker'] = 1\n",
    "\n",
    "# X_treat0 indicates that we are setting the treatment variable to 0\n",
    "X_treat0 = X_treat.copy()\n",
    "X_treat0['Smoker'] = 0\n",
    "\n",
    "# obtain predicted probabilities which equal E(Y|X)\n",
    "predict1 = logistic.predict_proba(X_treat1)\n",
    "predict0 = logistic.predict_proba(X_treat0)\n",
    "\n",
    "# estimate ATE\n",
    "e_ate = np.mean(predict1 - predict0)\n",
    "e_ate"
   ]
  },
  {
   "attachments": {},
   "cell_type": "markdown",
   "metadata": {},
   "source": [
    "**Wow, logistic regression gave us an ATE really close to 0.**"
   ]
  },
  {
   "attachments": {},
   "cell_type": "markdown",
   "metadata": {},
   "source": [
    "Now perform the analysis for type 2 diabetes data."
   ]
  },
  {
   "cell_type": "code",
   "execution_count": 65,
   "metadata": {},
   "outputs": [
    {
     "data": {
      "text/plain": [
       "-8.024894418275118e-20"
      ]
     },
     "execution_count": 65,
     "metadata": {},
     "output_type": "execute_result"
    }
   ],
   "source": [
    "# split up feature matrix and target array\n",
    "# X_treat matrix includes the treatment variable smoker \n",
    "d2_X_treat =  diabetes2.drop('Diabetes_binary', axis = 1)\n",
    "d2_y = diabetes2['Diabetes_binary']\n",
    "\n",
    "# fit logistic regression model\n",
    "logistic = LogisticRegression(solver='liblinear')\n",
    "logistic.fit(d2_X_treat, d2_y)\n",
    "\n",
    "# X_treat1 indicates that we are setting the treatment variable to 1\n",
    "d2_X_treat1 = d2_X_treat.copy()\n",
    "d2_X_treat1['Smoker'] = 1\n",
    "\n",
    "# X_treat0 indicates that we are setting the treatment variable to 0\n",
    "d2_X_treat0 = d2_X_treat.copy()\n",
    "d2_X_treat0['Smoker'] = 0\n",
    "\n",
    "# obtain predicted probabilities which equal E(Y|X)\n",
    "predict1 = logistic.predict_proba(d2_X_treat1)\n",
    "predict0 = logistic.predict_proba(d2_X_treat0)\n",
    "\n",
    "# estimate ATE\n",
    "e_ate = np.mean(predict1 - predict0)\n",
    "e_ate"
   ]
  },
  {
   "attachments": {},
   "cell_type": "markdown",
   "metadata": {},
   "source": [
    "Pretty much same result."
   ]
  }
 ],
 "metadata": {
  "kernelspec": {
   "display_name": "base",
   "language": "python",
   "name": "python3"
  },
  "language_info": {
   "codemirror_mode": {
    "name": "ipython",
    "version": 3
   },
   "file_extension": ".py",
   "mimetype": "text/x-python",
   "name": "python",
   "nbconvert_exporter": "python",
   "pygments_lexer": "ipython3",
   "version": "3.9.13"
  },
  "orig_nbformat": 4,
  "vscode": {
   "interpreter": {
    "hash": "dc901b97386455abeda15663489ce8b3c52018ae2e0d3984c8dab2d5a8cecb92"
   }
  }
 },
 "nbformat": 4,
 "nbformat_minor": 2
}
